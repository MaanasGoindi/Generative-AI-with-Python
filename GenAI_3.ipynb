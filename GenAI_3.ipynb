{
 "cells": [
  {
   "cell_type": "code",
   "execution_count": 31,
   "id": "1961d0d7-031e-434e-93c3-e8d8d7cb0b2a",
   "metadata": {},
   "outputs": [
    {
     "name": "stdout",
     "output_type": "stream",
     "text": [
      "Synthetic Data have been generated and saved.\n"
     ]
    }
   ],
   "source": [
    "#Generating Synthetic Data using Python \n",
    "import numpy as np\n",
    "import pandas as pd\n",
    "#Generating synthetic data\n",
    "num_samples=1000\n",
    "\n",
    "age=np.random.randint(18,90,size=num_samples)\n",
    "income=np.random.randint(20000,1000000,size=num_samples)\n",
    "num_purchases=np.random.randint(5,100,size=num_samples)\n",
    "\n",
    "#Combining the features into a dataframe\n",
    "data=pd.DataFrame({'Age':age,'Income':income,'Num_Purchases':num_purchases})\n",
    "\n",
    "#Saving Synthetic data to a csv File\n",
    "data.to_csv(\"Downloads\\Syn_data.csv\",index=False) #Saving the dataset at the intended current directory path so need to pass the filepath\n",
    "print(\"Synthetic Data have been generated and saved.\")"
   ]
  },
  {
   "cell_type": "code",
   "execution_count": 38,
   "id": "c07e47e3-4b1b-4b20-b87b-78411eaefd98",
   "metadata": {},
   "outputs": [
    {
     "ename": "SyntaxError",
     "evalue": "invalid syntax (1134357601.py, line 2)",
     "output_type": "error",
     "traceback": [
      "\u001b[1;36m  Cell \u001b[1;32mIn[38], line 2\u001b[1;36m\u001b[0m\n\u001b[1;33m    pip install wordcloud --trusted-host pypi.org --trusted-host files.pythonhosted.org Faker\u001b[0m\n\u001b[1;37m        ^\u001b[0m\n\u001b[1;31mSyntaxError\u001b[0m\u001b[1;31m:\u001b[0m invalid syntax\n"
     ]
    }
   ],
   "source": [
    "#Importing Faker library and generating synthetic data using Faker Library\n",
    "pip install wordcloud --trusted-host pypi.org --trusted-host files.pythonhosted.org Faker"
   ]
  },
  {
   "cell_type": "code",
   "execution_count": 39,
   "id": "1ebc1ee7-5e5b-40f9-bc4f-12ff721ff0cb",
   "metadata": {},
   "outputs": [
    {
     "name": "stdout",
     "output_type": "stream",
     "text": [
      "Synthetic Data have been generated and savedto Emp_data.csv file.\n"
     ]
    }
   ],
   "source": [
    "from faker import Faker\n",
    "import pandas as pd\n",
    "s1=Faker()\n",
    "\n",
    "#Generate sample data\n",
    "samples=1000\n",
    "\n",
    "data={'Name':[s1.name() for _ in range(samples)],\n",
    "      'Address':[s1.address() for _ in range(samples)],\n",
    "      'Email':[s1.email() for _ in range(samples)],\n",
    "      'Job_Title':[s1.job() for _ in range(samples)]\n",
    "     }\n",
    "\n",
    "df=pd.DataFrame(data)\n",
    "\n",
    "#Saving Synthetic data to a csv File\n",
    "df.to_csv(\"Downloads\\Emp_data_1.csv\",index=False) #Saving the dataset at the intended current directory path so need to pass the filepath\n",
    "print(\"Synthetic Data have been generated and savedto Emp_data.csv file.\")"
   ]
  },
  {
   "cell_type": "code",
   "execution_count": null,
   "id": "329be104-2623-4ec3-8edc-64cd1d66f537",
   "metadata": {},
   "outputs": [],
   "source": [
    "#Generate Synthetic Image Data\n",
    "import numpy as np\n",
    "import matplotlib.pyplot as plt\n",
    "\n",
    "#Generate sample Image data \n",
    "np.random.seed(0)\n",
    "image_data=np.random.rand(100,100)\n",
    "plt.imshow(image_data,cmap='grey')\n",
    "plt.axis('off')\n",
    "\n",
    "#Saving the data\n",
    "image_path='Downloads\\sample_image.png' #Saving the dataset at the intended current directory path so need to pass the filepath\n",
    "plt.savefig(image_path)\n",
    "plt.close()\n",
    "\n",
    "print(\"Sample Image saved successfully.\")"
   ]
  },
  {
   "cell_type": "code",
   "execution_count": null,
   "id": "99c39995-8ecd-4695-abc5-af846c5d14a2",
   "metadata": {},
   "outputs": [],
   "source": [
    "#Generating Images of Alphabetic Letters\n",
    "#Defining function to generate image of alphabets\n",
    "\n",
    "import matplotlib.pyplot as plt\n",
    "import numpy as np\n",
    "def generate_Alphabet_images():\n",
    "    fig,ax=plt.subplots(5,6,figsize=(10,8))\n",
    "    letters='ABCDEFGHIJKLMNOPQRSTUVWXYZ'\n",
    "    id=0\n",
    "    for i in range(5):\n",
    "       for j in range(6):\n",
    "           if id>=26:\n",
    "               break\n",
    "           ax[i,j].imshow(np.zeros((10,10)),cmap='gray')\n",
    "           ax[i,j].axis('off')\n",
    "           ax[i,j].text(2,5,letters[id],fontsize=25,color='white')\n",
    "           id+=1\n",
    "plt.tight_layout()\n",
    "plt.show()\n",
    "\n",
    "#Generate and display Alphabets\n",
    "generate_Alphabet_images()"
   ]
  },
  {
   "cell_type": "code",
   "execution_count": null,
   "id": "b7f4a115-528b-44f3-84c2-c0c0423ffbc9",
   "metadata": {},
   "outputs": [],
   "source": [
    "#Defining function to generate image of alphabets\n",
    "\n",
    "import matplotlib.pyplot as plt\n",
    "import numpy as np\n",
    "def generate_Alphabet_images():\n",
    "    fig,ax=plt.subplots(5,6,figsize=(10,8))\n",
    "    letters='ABCDEFGHIJKLMNOPQRSTUVWXYZ'\n",
    "    id=0\n",
    "    for i in range(5):\n",
    "       for j in range(6):\n",
    "           if id>=26:\n",
    "               break\n",
    "           ax[i,j].imshow(np.ones((10,10)),cmap='gray')\n",
    "           ax[i,j].axis('off')\n",
    "           ax[i,j].text(2,5,letters[id],fontsize=25,color='white')\n",
    "           id+=1\n",
    "plt.tight_layout()\n",
    "plt.show()\n",
    "\n",
    "#Generate and display Alphabets\n",
    "generate_Alphabet_images()"
   ]
  },
  {
   "cell_type": "code",
   "execution_count": null,
   "id": "d986e09d-dd97-457b-8394-5f21025ffc7d",
   "metadata": {
    "scrolled": true
   },
   "outputs": [],
   "source": [
    "#Defining function to generate image of alphabets\n",
    "\n",
    "import matplotlib.pyplot as plt\n",
    "import numpy as np\n",
    "def generate_Number_images():\n",
    "    fig,ax=plt.subplots(3,4,figsize=(10,8))\n",
    "    letters='1234567890'\n",
    "    id=0\n",
    "    for i in range(3):\n",
    "       for j in range(4):\n",
    "           if id>=10:\n",
    "               break\n",
    "           ax[i,j].imshow(np.zeros((10,10)),cmap='gray')\n",
    "           ax[i,j].axis('off')\n",
    "           ax[i,j].text(2,5,letters[id],fontsize=20,color='white')\n",
    "           id+=1\n",
    "plt.tight_layout()\n",
    "plt.show()\n",
    "\n",
    "#Generate and display Alphabets\n",
    "generate_Number_images()"
   ]
  },
  {
   "cell_type": "code",
   "execution_count": null,
   "id": "0e94a268-3de3-4e5f-89ce-a77d96782361",
   "metadata": {},
   "outputs": [],
   "source": [
    "pip install wordcloud --trusted-host pypi.org --trusted-host files.pythonhosted.org google_images_download"
   ]
  },
  {
   "cell_type": "code",
   "execution_count": null,
   "id": "b82d3abe-b506-4cec-a877-6d9f4a78fb9d",
   "metadata": {},
   "outputs": [],
   "source": [
    "from faker import Faker\n",
    "from google_images_download import google_images_download\n",
    "import os as os\n",
    "\n",
    "#Instantiating Faker\n",
    "fake=Faker()\n",
    "\n",
    "#Generate 5 fake animal names\n",
    "animal_names=[fake.word(ext_word_list=[\"animal\"]) for _ in range(5)]\n",
    "\n",
    "# Download images\n",
    "response = google_images_download.googleimagesdownload()\n",
    "output = \"Downloads\\\\animal_images\"  # Corrected path separator\n",
    "if not os.path.exists(output):\n",
    "    os.makedirs(output)\n",
    "for animal in animal_names:\n",
    "    # Prepare download arguments\n",
    "    arguments = {\n",
    "        \"keywords\": animal,\n",
    "        \"limit\": 1,\n",
    "        \"format\": \"jpg\",\n",
    "        \"output_directory\": output  # Corrected argument name\n",
    "    }\n",
    "    response.download(arguments)\n",
    "\n",
    "print(\"Images downloaded and saved in directory: \", output)"
   ]
  },
  {
   "cell_type": "code",
   "execution_count": null,
   "id": "49232767-b67f-4021-bcf6-c6f58eeca907",
   "metadata": {},
   "outputs": [],
   "source": [
    "pip install wordcloud --trusted-host pypi.org --trusted-host files.pythonhosted.org pillow"
   ]
  },
  {
   "cell_type": "code",
   "execution_count": null,
   "id": "5294c48d-14f4-4668-a281-ffd7e096e4db",
   "metadata": {},
   "outputs": [],
   "source": [
    "from PIL import Image\n",
    "import os as os\n",
    "output=\"Downloads\\\\animal_images\"\n",
    "#Display files in the directory\n",
    "files=os.listdir(output)\n",
    "\n",
    "for file in files:\n",
    "    image_path=os.path.join(output,file)\n",
    "    image=Image.open(image_path)\n",
    "    image.show()"
   ]
  },
  {
   "cell_type": "code",
   "execution_count": null,
   "id": "a0f003aa-31a9-41c5-b5b7-c35700a0f35c",
   "metadata": {},
   "outputs": [],
   "source": [
    "from faker import Faker\n",
    "import pandas as pd\n",
    "import random\n",
    "\n",
    "#Instantiating Faker\n",
    "fake=Faker()\n",
    "\n",
    "#Define categories and sub-categories\n",
    "categories=['Electronics','Clothing','Home','Sports','Books']\n",
    "sub_categories={\n",
    "    'Electronics':['Smartphones','Laptop','Tablet','Headphone'],\n",
    "    'Clothing':['T-Shirt','Jeans','Frock','Sweaters'],\n",
    "    'Home':['Furniture','Home Appliances','Bedding','Home Decor'],\n",
    "    'Sports':['Running','Cycling','Fitness','Team Sports'],\n",
    "    'Books':['Fiction','Non-Fiction','Biographies','Self-Help']\n",
    "               }\n",
    "\n",
    "#Generate Shopping Data\n",
    "data=[]\n",
    "for _ in range(500):\n",
    "    category=random.choice(categories)\n",
    "    sub_category=random.choice(sub_categories[category])\n",
    "    item=fake.word().capitalize()+''+sub_category\n",
    "    price=round(random.uniform(10,1000),2)\n",
    "    quantity=random.randint(1,5)\n",
    "    data.append([category,sub_category,item,price,quantity])\n",
    "\n",
    "#Create Dataframe\n",
    "columns=['Category','Sub-Category','Item','Price','Quantity']\n",
    "df=pd.DataFrame(data,columns=columns)\n",
    "\n",
    "#Save dataframe to CSV\n",
    "df.to_csv(\"Downloads\\Shopping_data.csv\",index=False) #Saving the dataset at the intended current directory path so need to pass the filepath\n",
    "print(\"Synthetic Data have been generated and saved in between columns in Shopping_data.csv file.\")"
   ]
  },
  {
   "cell_type": "code",
   "execution_count": null,
   "id": "f79d7173-2c6a-4831-beae-a44628e3585e",
   "metadata": {},
   "outputs": [],
   "source": [
    "#Assignment for generating data (Employee) from faker library\n",
    "from faker import Faker\n",
    "import pandas as pd\n",
    "s1=Faker()\n",
    "\n",
    "#Generate sample data\n",
    "samples=1000\n",
    "\n",
    "data={'Employee_id':[s1.random_number(digits=8) for _ in range(samples)],\n",
    "      'Name':[s1.name() for _ in range(samples)],\n",
    "      'Gender':[s1.random_element([\"Male\", \"Female\"]) for _ in range(samples)],\n",
    "      'Rating':[random.randint(1, 5) for _ in range(samples)],\n",
    "      'Average Performance Index':[random.randint(1, 5) for _ in range(samples)],\n",
    "      'Work Experience':[random.randint(1, 60)  for _ in range(samples)]\n",
    "     }\n",
    "\n",
    "df=pd.DataFrame(data)\n",
    "\n",
    "#Saving Synthetic data to a csv File\n",
    "df.to_csv(\"Downloads\\Emp_assignment_data.csv\",index=False) #Saving the dataset at the intended current directory path so need to pass the filepath\n",
    "print(\"Synthetic Data have been generated and savedto Emp_assignment_data.csv file.\")"
   ]
  },
  {
   "cell_type": "code",
   "execution_count": null,
   "id": "83dd0c03-8600-47d4-89e3-9f8e13103335",
   "metadata": {},
   "outputs": [],
   "source": [
    "pip install wordcloud --trusted-host pypi.org --trusted-host files.pythonhosted.org python-pptx"
   ]
  },
  {
   "cell_type": "code",
   "execution_count": null,
   "id": "e24621b0-ed1c-4f98-b941-61d75b27ed21",
   "metadata": {},
   "outputs": [],
   "source": [
    "from pptx import Presentation\n",
    "from pptx.util import Inches\n",
    "\n",
    "#Create a presentation object\n",
    "prs=Presentation()\n",
    "\n",
    "#Title Slide\n",
    "slide_title=prs.slides.add_slide(prs.slide_layouts[0])\n",
    "title=slide_title.shapes.title\n",
    "subtitle=slide_title.placeholders[1]\n",
    "title.text=\"Time Series Forecasting\"\n",
    "subtitle.text=\"Using Python\"\n",
    "\n",
    "# Slide 2: Introduction to Time Series Forecasting\n",
    "slide_intro = prs.slides.add_slide(prs.slide_layouts[1])\n",
    "title, content = slide_intro.shapes.title, slide_intro.placeholders[1]\n",
    "title.text = \"Introduction to Time Series Forecasting\"\n",
    "content.text = \"Time series Forecasting is a technique used in statistics and machine learning to predict the future values\"\n",
    "\n",
    "#Slide 3: Methods of Time Series Forecasting\n",
    "slide_methods=prs.slides.add_slide(prs.slide_layouts[1])\n",
    "title,content=slide_methods.shapes.title,slide_methods.placeholders[1]\n",
    "title.text=\"Methods of Time Series Forecasting\"\n",
    "content.text=\"There are various methods for time series forecasting, including:\\n\\n\"\\\n",
    "\"-Statistical Methods(ARIMA,Exponential Smoothing)\\n\"\\\n",
    "\"-Machine Learning Methods(Neural Networks,Random Forests)\\n\"\\\n",
    "\"-Hybrid Methods(Combination od statistical and ML techniques)\"\n",
    "\n",
    "#Slide 4: Methods of Time Series Forecasting\n",
    "slide_thanks=prs.slides.add_slide(prs.slide_layouts[1])\n",
    "title,content=slide_thanks.shapes.title,slide_thanks.placeholders[1]\n",
    "#title.text=\"Methods of Time Series Forecasting\"\n",
    "content.text=\"Thank You for joining the presentation\"\n",
    "\n",
    "#Save the presentation\n",
    "prs.save(\"Downloads\\\\Time_Series_Forecasting.pptx\")\n",
    "print(\"Presentation saved successfully\")"
   ]
  },
  {
   "cell_type": "code",
   "execution_count": 35,
   "id": "aaaaad1f-e83f-4ee3-bb6b-c626b450e8ff",
   "metadata": {},
   "outputs": [
    {
     "ename": "AttributeError",
     "evalue": "'Slide' object has no attribute 'fill'",
     "output_type": "error",
     "traceback": [
      "\u001b[1;31m---------------------------------------------------------------------------\u001b[0m",
      "\u001b[1;31mAttributeError\u001b[0m                            Traceback (most recent call last)",
      "Cell \u001b[1;32mIn[35], line 13\u001b[0m\n\u001b[0;32m     11\u001b[0m \u001b[38;5;66;03m#background=slide.background\u001b[39;00m\n\u001b[0;32m     12\u001b[0m background\u001b[38;5;241m=\u001b[39mprs\u001b[38;5;241m.\u001b[39mslides\u001b[38;5;241m.\u001b[39madd_slide(prs\u001b[38;5;241m.\u001b[39mslide_layouts[\u001b[38;5;241m5\u001b[39m])\n\u001b[1;32m---> 13\u001b[0m fill \u001b[38;5;241m=\u001b[39m background\u001b[38;5;241m.\u001b[39mfill\n\u001b[0;32m     14\u001b[0m fill\u001b[38;5;241m.\u001b[39msolid()\n\u001b[0;32m     15\u001b[0m fill\u001b[38;5;241m.\u001b[39mfore_color\u001b[38;5;241m.\u001b[39mrgb \u001b[38;5;241m=\u001b[39m RGBColor(\u001b[38;5;241m173\u001b[39m, \u001b[38;5;241m216\u001b[39m, \u001b[38;5;241m230\u001b[39m)\n",
      "\u001b[1;31mAttributeError\u001b[0m: 'Slide' object has no attribute 'fill'"
     ]
    }
   ],
   "source": [
    "from pptx import Presentation\n",
    "from pptx.util import Inches,Pt\n",
    "from pptx.enum.shapes import MSO_SHAPE\n",
    "from pptx.dml.color import RGBColor\n",
    "import random\n",
    "\n",
    "def add_slide(prs,title,content,image_path):\n",
    "    slide_layout=prs.slide_layouts[5]\n",
    "    slide=prs.slides.add_slide(slide_layout)\n",
    "\n",
    "#background=slide.background\n",
    "background=prs.slides.add_slide(prs.slide_layouts[5])\n",
    "fill = background.fill\n",
    "fill.solid()\n",
    "fill.fore_color.rgb = RGBColor(173, 216, 230)\n",
    "\n",
    "#Add Title\n",
    "title_shape=slide.shapes.add_textbox(Inches(1),Inches(0.5),Inches(8),Inches(1))\n",
    "title_frame=title_shape.text_frame\n",
    "title_frame.text=title\n",
    "title_frame.paragraphs[0].font.size=Pt(36)\n",
    "title_frame.paragraphs[0].font.bold=True\n",
    "\n",
    "#Add Content\n",
    "content_shape=slide.shapes.add_textbox(Inches(1),Inches(2),Inches(8),Inches(4.5))\n",
    "content_frame=content_shape.text_frame\n",
    "content_frame.text=content\n",
    "content_frame.paragraphs[0].font.size=Pt(24)\n",
    "\n",
    "#Add Image\n",
    "slide.shapes.add_picture(image_path,Inches(6),Inches(1.5),width=Inches(3.5),height=Inches(3))\n",
    "\n",
    "#Create Presentation\n",
    "prs=Presentation()\n",
    "\n",
    "#Add slides\n",
    "titles=[\"Introduction\",\"Importance of Work life balance\",\"Strategies for achieving work life balance\",\"Benefits of Work Life Balance\",\"Conclusion\"]\n",
    "contents=[\"Work-Life Balance is the equilibrium between personal and professional life.\",\n",
    "          \"Maintaining a work-life balance is essential for physical and mental well-being\",\n",
    "          \"Effective time management, seeting boundaries and prioritizing tasks are key strategies\",\n",
    "          \"Enhanced productivity, reduced stress and improved relationships are some of the great benefits to achieve.\",\n",
    "          \"Achieving work-life balance leads to a happier and fulfilling life.\"]\n",
    "image_paths=[\"Downloads\\\\Image1.jpg\",\"Downloads\\\\Image2.jpg\",\"Downloads\\\\Image3.jpg\",\"Downloads\\\\Image4.jpg\",\"Downloads\\\\Image5.jpg\"]\n",
    "\n",
    "for title,content,image_path in zip(titles,contents,image_paths):\n",
    "    add_slide(prs,title,content,image_path)\n",
    "\n",
    "#Saving Presentation\n",
    "prs.save(\"Downloads\\\\Work-LifeBalance.pptx\")\n",
    "print(\"Presentation have been saved successfully\")"
   ]
  },
  {
   "cell_type": "code",
   "execution_count": null,
   "id": "4c188eb7-970c-44fe-b289-2c65a8e11327",
   "metadata": {},
   "outputs": [],
   "source": []
  }
 ],
 "metadata": {
  "kernelspec": {
   "display_name": "Python 3 (ipykernel)",
   "language": "python",
   "name": "python3"
  },
  "language_info": {
   "codemirror_mode": {
    "name": "ipython",
    "version": 3
   },
   "file_extension": ".py",
   "mimetype": "text/x-python",
   "name": "python",
   "nbconvert_exporter": "python",
   "pygments_lexer": "ipython3",
   "version": "3.11.7"
  }
 },
 "nbformat": 4,
 "nbformat_minor": 5
}

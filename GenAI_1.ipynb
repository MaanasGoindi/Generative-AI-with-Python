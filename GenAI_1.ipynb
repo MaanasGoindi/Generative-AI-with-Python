{
 "cells": [
  {
   "cell_type": "code",
   "execution_count": 50,
   "id": "9edab4c1-6e2f-46aa-8c2f-3bca6a93eff9",
   "metadata": {},
   "outputs": [
    {
     "name": "stdout",
     "output_type": "stream",
     "text": [
      "Making sure the version of Python is picking up my thoughts.\n"
     ]
    }
   ],
   "source": [
    "print(\"Making sure the version of Python is picking up my thoughts.\")"
   ]
  },
  {
   "cell_type": "code",
   "execution_count": 56,
   "id": "31b27542-f4bf-4dcc-ae2d-8000c636c7ff",
   "metadata": {},
   "outputs": [],
   "source": [
    "import pandas as pd\n",
    "import numpy as np\n",
    "import matplotlib.pyplot as plt"
   ]
  },
  {
   "cell_type": "code",
   "execution_count": 9,
   "id": "b54f8ad4-185d-4176-8758-a562c2b05732",
   "metadata": {},
   "outputs": [
    {
     "name": "stdout",
     "output_type": "stream",
     "text": [
      "0    1\n",
      "1    2\n",
      "2    3\n",
      "dtype: int64\n",
      "alpha    1\n",
      "beta     2\n",
      "gamma    3\n",
      "dtype: int64\n",
      "Addition:  [12 14 16]\n",
      "Substraction:  [-2 -2 -2]\n",
      "Multiplicatio:  [35 48 63]\n",
      "Division:  [0.71428571 0.75       0.77777778]\n"
     ]
    }
   ],
   "source": [
    "#Series generation using Pandas\n",
    "\n",
    "p=pd.Series((1,2,3))\n",
    "p_i=pd.Series((1,2,3),index=(\"alpha\",\"beta\",\"gamma\"))\n",
    "\n",
    "print(p)\n",
    "print(p_i)"
   ]
  },
  {
   "cell_type": "code",
   "execution_count": 32,
   "id": "45a28f2a-320c-4253-baff-d538d77576d1",
   "metadata": {},
   "outputs": [
    {
     "data": {
      "text/html": [
       "<div>\n",
       "<style scoped>\n",
       "    .dataframe tbody tr th:only-of-type {\n",
       "        vertical-align: middle;\n",
       "    }\n",
       "\n",
       "    .dataframe tbody tr th {\n",
       "        vertical-align: top;\n",
       "    }\n",
       "\n",
       "    .dataframe thead th {\n",
       "        text-align: right;\n",
       "    }\n",
       "</style>\n",
       "<table border=\"1\" class=\"dataframe\">\n",
       "  <thead>\n",
       "    <tr style=\"text-align: right;\">\n",
       "      <th></th>\n",
       "      <th>Name</th>\n",
       "      <th>Age</th>\n",
       "      <th>City</th>\n",
       "    </tr>\n",
       "  </thead>\n",
       "  <tbody>\n",
       "    <tr>\n",
       "      <th>0</th>\n",
       "      <td>Maanas</td>\n",
       "      <td>30</td>\n",
       "      <td>Delhi</td>\n",
       "    </tr>\n",
       "    <tr>\n",
       "      <th>1</th>\n",
       "      <td>Ankit</td>\n",
       "      <td>28</td>\n",
       "      <td>Uttarakhand</td>\n",
       "    </tr>\n",
       "    <tr>\n",
       "      <th>2</th>\n",
       "      <td>Harsh</td>\n",
       "      <td>31</td>\n",
       "      <td>Patna</td>\n",
       "    </tr>\n",
       "    <tr>\n",
       "      <th>3</th>\n",
       "      <td>Lokesh</td>\n",
       "      <td>35</td>\n",
       "      <td>Uttar Pradesh</td>\n",
       "    </tr>\n",
       "    <tr>\n",
       "      <th>4</th>\n",
       "      <td>Akshar</td>\n",
       "      <td>29</td>\n",
       "      <td>Jodhpur</td>\n",
       "    </tr>\n",
       "    <tr>\n",
       "      <th>5</th>\n",
       "      <td>Aishwarya Rai</td>\n",
       "      <td>30</td>\n",
       "      <td>Mumbai</td>\n",
       "    </tr>\n",
       "  </tbody>\n",
       "</table>\n",
       "</div>"
      ],
      "text/plain": [
       "            Name  Age           City\n",
       "0         Maanas   30          Delhi\n",
       "1          Ankit   28    Uttarakhand\n",
       "2          Harsh   31          Patna\n",
       "3         Lokesh   35  Uttar Pradesh\n",
       "4         Akshar   29        Jodhpur\n",
       "5  Aishwarya Rai   30         Mumbai"
      ]
     },
     "execution_count": 32,
     "metadata": {},
     "output_type": "execute_result"
    }
   ],
   "source": [
    "data={'Name':[\"Maanas\",\"Ankit\",\"Harsh\",\"Lokesh\",\"Akshar\",\"Aishwarya Rai\"],\n",
    "     'Age':[30,28,31,35,29,30],\n",
    "     'City':[\"Delhi\",\"Uttarakhand\",\"Patna\",\"Uttar Pradesh\",\"Jodhpur\",\"Mumbai\"]}\n",
    "df=pd.DataFrame(data)\n",
    "df"
   ]
  },
  {
   "cell_type": "code",
   "execution_count": 26,
   "id": "d4711d44-8f4a-4675-b8ea-d21b6f812b9e",
   "metadata": {},
   "outputs": [
    {
     "name": "stdout",
     "output_type": "stream",
     "text": [
      "[3 5 7 9]\n",
      "[-1 -1 -1 -1]\n",
      "[ 2  6 12 20]\n",
      "[0.5        0.66666667 0.75       0.8       ]\n"
     ]
    }
   ],
   "source": [
    "a=[1,2,3,4]\n",
    "b=[2,3,4,5]\n",
    "A=np.array(a)\n",
    "B=np.array(b)\n",
    "print(A+B)\n",
    "print(A-B)\n",
    "print(A*B)\n",
    "print(A/B)"
   ]
  },
  {
   "cell_type": "code",
   "execution_count": 27,
   "id": "030b0b05-1c0a-4f81-bc68-a49a1c6a363d",
   "metadata": {},
   "outputs": [
    {
     "name": "stdout",
     "output_type": "stream",
     "text": [
      "[14 14 14]\n",
      "[-4 -2  0]\n",
      "[45 48 49]\n",
      "[0.55555556 0.75       1.        ]\n"
     ]
    }
   ],
   "source": [
    "#Assignment on list and array.\n",
    "X=[5,6,7]\n",
    "Y=[9,8,7]\n",
    "x=np.array(X)\n",
    "y=np.array(Y)\n",
    "\n",
    "print(x+y)\n",
    "print(x-y)\n",
    "print(x*y)\n",
    "print(x/y)"
   ]
  },
  {
   "cell_type": "code",
   "execution_count": 42,
   "id": "88c0d53d-bef8-477f-88f1-befbe7360496",
   "metadata": {},
   "outputs": [
    {
     "name": "stdout",
     "output_type": "stream",
     "text": [
      "Addition: [[2 4]\n",
      " [4 6]]\n",
      "Multiplication: [[1 4]\n",
      " [4 9]]\n"
     ]
    }
   ],
   "source": [
    "#Two Dimensional array\n",
    "b=[[1,2],[2,3]]\n",
    "c=np.array(b)\n",
    "print(\"Addition:\",c+c)\n",
    "print(\"Multiplication:\",c*c)"
   ]
  },
  {
   "cell_type": "code",
   "execution_count": 45,
   "id": "6e23c734-9344-49d9-85fd-51b569b71819",
   "metadata": {},
   "outputs": [
    {
     "name": "stdout",
     "output_type": "stream",
     "text": [
      "Addition:  [ 6  8 10 12]\n",
      "Substraction:  [-4 -4 -4 -4]\n",
      "Multiplication:  [ 5 12 21 32]\n",
      "Division:  [0.2        0.33333333 0.42857143 0.5       ]\n",
      "Addition of 2-D array:  [[ 5  9]\n",
      " [10 15]]\n",
      "Substraction  of 2-D array:  [[-3 -5]\n",
      " [-6 -3]]\n",
      "Multiplication  of 2-D array:  [[ 4 14]\n",
      " [16 54]]\n",
      "Division  of 2-D array:  [[0.25       0.28571429]\n",
      " [0.25       0.66666667]]\n"
     ]
    }
   ],
   "source": [
    "#Arithematic and Statistical functions\n",
    "#Arithematic Operations\n",
    "a=np.array([1,2,3,4])\n",
    "b=np.array([5,6,7,8])\n",
    "#Addition using numpy\n",
    "add=np.add(a,b)\n",
    "print(\"Addition: \",add)\n",
    "#Substraction using numpy\n",
    "substract=np.subtract(a,b)\n",
    "print(\"Substraction: \",substract)\n",
    "#Multiplication using numpy\n",
    "multiply=np.multiply(a,b)\n",
    "print(\"Multiplication: \",multiply)\n",
    "#Division using numpy\n",
    "divide=np.divide(a,b)\n",
    "print(\"Division: \",divide)\n",
    "\n",
    "x1=[[1,2],[2,6]]\n",
    "y1=[[4,7],[8,9]]\n",
    "x=np.array(x1)\n",
    "y=np.array(y1)\n",
    "#Addition using numpy\n",
    "add=np.add(x,y)\n",
    "print(\"Addition of 2-D array: \",add)\n",
    "#Substraction using numpy\n",
    "substract=np.subtract(x,y)\n",
    "print(\"Substraction  of 2-D array: \",substract)\n",
    "#Multiplication using numpy\n",
    "multiply=np.multiply(x,y)\n",
    "print(\"Multiplication  of 2-D array: \",multiply)\n",
    "#Division using numpy\n",
    "divide=np.divide(x,y)\n",
    "print(\"Division  of 2-D array: \",divide)"
   ]
  },
  {
   "cell_type": "code",
   "execution_count": 47,
   "id": "fe2cafda-0722-438c-8b97-aaeb940ded11",
   "metadata": {},
   "outputs": [
    {
     "name": "stdout",
     "output_type": "stream",
     "text": [
      "Mean:  5.5\n",
      "Median:  5.5\n",
      "Standard Deviation:  2.8722813232690143\n",
      "Variance:  8.25\n"
     ]
    }
   ],
   "source": [
    "#Statistical Operations\n",
    "data=np.array([1,2,3,4,5,6,7,8,9,10])\n",
    "#Mean\n",
    "mean=np.mean(data)\n",
    "print(\"Mean: \",mean)\n",
    "#Median\n",
    "median=np.median(data)\n",
    "print(\"Median: \",median)\n",
    "#Standard Deviation\n",
    "Std_deviation=np.std(data)\n",
    "print(\"Standard Deviation: \",Std_deviation)\n",
    "#Variance\n",
    "Variance=np.var(data)\n",
    "print(\"Variance: \",Variance)"
   ]
  },
  {
   "cell_type": "code",
   "execution_count": 49,
   "id": "dcb798f1-cd32-4265-9594-c4c4893d64dc",
   "metadata": {},
   "outputs": [
    {
     "name": "stdout",
     "output_type": "stream",
     "text": [
      "Addition:  [ 3  5  7  9 11 13 15 17 19 21 23 25 27 29 31]\n",
      "Substraction:  [-1 -1 -1 -1 -1 -1 -1 -1 -1 -1 -1 -1 -1 -1 -1]\n",
      "Multiplication:  [  2   6  12  20  30  42  56  72  90 110 132 156 182 210 240]\n",
      "Division:  [0.5        0.66666667 0.75       0.8        0.83333333 0.85714286\n",
      " 0.875      0.88888889 0.9        0.90909091 0.91666667 0.92307692\n",
      " 0.92857143 0.93333333 0.9375    ]\n",
      "Mean of first data:  8.0\n",
      "Mean of second data:  9.0\n",
      "Median of first data:  8.0\n",
      "Median of second data:  9.0\n",
      "Standard Deviation of first data:  4.320493798938574\n",
      "Standard Deviation of second data:  4.320493798938574\n",
      "Variance of first data:  18.666666666666668\n",
      "Variance of second data:  18.666666666666668\n"
     ]
    }
   ],
   "source": [
    "#Assignment for list\n",
    "data_1=np.array([1,2,3,4,5,6,7,8,9,10,11,12,13,14,15])\n",
    "data_2=np.array([2,3,4,5,6,7,8,9,10,11,12,13,14,15,16])\n",
    "b=data_1+data_2\n",
    "print(\"Addition: \",b)\n",
    "c=data_1-data_2\n",
    "print(\"Substraction: \",c)\n",
    "d=data_1*data_2\n",
    "print(\"Multiplication: \",d)\n",
    "e=data_1/data_2\n",
    "print(\"Division: \",e)\n",
    "#Mean\n",
    "mean_1=np.mean(data_1)\n",
    "mean_2=np.mean(data_2)\n",
    "print(\"Mean of first data: \",mean_1)\n",
    "print(\"Mean of second data: \",mean_2)\n",
    "#Median\n",
    "median_1=np.median(data_1)\n",
    "median_2=np.median(data_2)\n",
    "print(\"Median of first data: \",median_1)\n",
    "print(\"Median of second data: \",median_2)\n",
    "#Standard Deviation\n",
    "STD_1=np.std(data_1)\n",
    "STD_2=np.std(data_2)\n",
    "print(\"Standard Deviation of first data: \",STD_1)\n",
    "print(\"Standard Deviation of second data: \",STD_2)\n",
    "#Variance\n",
    "var_1=np.var(data_1)\n",
    "var_2=np.var(data_2)\n",
    "print(\"Variance of first data: \",var_1)\n",
    "print(\"Variance of second data: \",var_2)"
   ]
  },
  {
   "cell_type": "code",
   "execution_count": 57,
   "id": "e4793004-3a79-498a-b554-a020aca2129f",
   "metadata": {},
   "outputs": [
    {
     "data": {
      "image/png": "[encoded data removed]",
      "text/plain": [
       "<Figure size 640x480 with 1 Axes>"
      ]
     },
     "metadata": {},
     "output_type": "display_data"
    }
   ],
   "source": [
    "#Generate random data from an exponential distribution\n",
    "beta=1/2 #scale parameter(inverse of rate parameter)\n",
    "data_exponential=np.random.exponential(beta,1000)\n",
    "\n",
    "#Plot histogram of generated data\n",
    "plt.hist(data_exponential,bins=30,density=True,alpha=0.7,color='m')\n",
    "plt.title('Exponential Distribution')\n",
    "plt.xlabel('Value')\n",
    "plt.ylabel('Frequency')\n",
    "plt.show()"
   ]
  },
  {
   "cell_type": "code",
   "execution_count": null,
   "id": "5b03020f-5fbf-4fb8-8539-3e4a579691b5",
   "metadata": {},
   "outputs": [],
   "source": []
  }
 ],
 "metadata": {
  "kernelspec": {
   "display_name": "Python 3 (ipykernel)",
   "language": "python",
   "name": "python3"
  },
  "language_info": {
   "codemirror_mode": {
    "name": "ipython",
    "version": 3
   },
   "file_extension": ".py",
   "mimetype": "text/x-python",
   "name": "python",
   "nbconvert_exporter": "python",
   "pygments_lexer": "ipython3",
   "version": "3.11.7"
  }
 },
 "nbformat": 4,
 "nbformat_minor": 5
}

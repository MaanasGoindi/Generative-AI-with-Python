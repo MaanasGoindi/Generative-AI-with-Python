{
 "cells": [
  {
   "cell_type": "code",
   "execution_count": 4,
   "id": "5fb5b87b-7b12-4c6a-8511-3b70bf871115",
   "metadata": {},
   "outputs": [
    {
     "data": {
      "text/html": [
       "<div>\n",
       "<style scoped>\n",
       "    .dataframe tbody tr th:only-of-type {\n",
       "        vertical-align: middle;\n",
       "    }\n",
       "\n",
       "    .dataframe tbody tr th {\n",
       "        vertical-align: top;\n",
       "    }\n",
       "\n",
       "    .dataframe thead th {\n",
       "        text-align: right;\n",
       "    }\n",
       "</style>\n",
       "<table border=\"1\" class=\"dataframe\">\n",
       "  <thead>\n",
       "    <tr style=\"text-align: right;\">\n",
       "      <th></th>\n",
       "      <th>Name</th>\n",
       "      <th>Age</th>\n",
       "      <th>City</th>\n",
       "    </tr>\n",
       "  </thead>\n",
       "  <tbody>\n",
       "    <tr>\n",
       "      <th>0</th>\n",
       "      <td>Harsh</td>\n",
       "      <td>30</td>\n",
       "      <td>Patna</td>\n",
       "    </tr>\n",
       "    <tr>\n",
       "      <th>1</th>\n",
       "      <td>Maanas</td>\n",
       "      <td>31</td>\n",
       "      <td>Delhi</td>\n",
       "    </tr>\n",
       "    <tr>\n",
       "      <th>2</th>\n",
       "      <td>Akshar</td>\n",
       "      <td>28</td>\n",
       "      <td>Jodhpur</td>\n",
       "    </tr>\n",
       "    <tr>\n",
       "      <th>3</th>\n",
       "      <td>Lokesh</td>\n",
       "      <td>35</td>\n",
       "      <td>Uttar Pradesh</td>\n",
       "    </tr>\n",
       "    <tr>\n",
       "      <th>4</th>\n",
       "      <td>Ankit</td>\n",
       "      <td>29</td>\n",
       "      <td>Uttarakhand</td>\n",
       "    </tr>\n",
       "  </tbody>\n",
       "</table>\n",
       "</div>"
      ],
      "text/plain": [
       "     Name  Age           City\n",
       "0   Harsh   30          Patna\n",
       "1  Maanas   31          Delhi\n",
       "2  Akshar   28        Jodhpur\n",
       "3  Lokesh   35  Uttar Pradesh\n",
       "4   Ankit   29    Uttarakhand"
      ]
     },
     "execution_count": 4,
     "metadata": {},
     "output_type": "execute_result"
    }
   ],
   "source": [
    "#Data Manipulation\n",
    "import pandas as pd\n",
    "data={'Name':[\"Harsh\",\"Maanas\",\"Akshar\",\"Lokesh\",\"Ankit\"],'Age':[30,31,28,35,29],'City':[\"Patna\",\"Delhi\",\"Jodhpur\",\"Uttar Pradesh\",\"Uttarakhand\"]}\n",
    "df=pd.DataFrame(data)\n",
    "df"
   ]
  },
  {
   "cell_type": "code",
   "execution_count": 12,
   "id": "591c1779-79a6-4d5e-b546-c791cb282188",
   "metadata": {},
   "outputs": [
    {
     "name": "stdout",
     "output_type": "stream",
     "text": [
      "Data filtered by Age:       Name  Age           City\n",
      "0   Harsh   30          Patna\n",
      "1  Maanas   31          Delhi\n",
      "3  Lokesh   35  Uttar Pradesh\n",
      "4   Ankit   29    Uttarakhand\n",
      "Data sorted by Age:       Name  Age           City\n",
      "2  Akshar   28        Jodhpur\n",
      "4   Ankit   29    Uttarakhand\n",
      "0   Harsh   30          Patna\n",
      "1  Maanas   31          Delhi\n",
      "3  Lokesh   35  Uttar Pradesh\n",
      " Data grouped by City:  30.6\n"
     ]
    }
   ],
   "source": [
    "#Filter data based on condition\n",
    "df_updated=df[df['Age']>28]\n",
    "print(\"Data filtered by Age: \",df_updated)\n",
    "#Data Sorting by Age \n",
    "df_age=df.sort_values(by='Age',ascending=True)\n",
    "print(\"Data sorted by Age: \",df_age)\n",
    "#Group Data by City and calculate avergae age\n",
    "df_group=df['Age'].mean()\n",
    "print(\"Mean of the Data by Age: \",df_group)"
   ]
  },
  {
   "cell_type": "code",
   "execution_count": 15,
   "id": "8e81bddf-b484-4554-a684-10d27bdcc07b",
   "metadata": {},
   "outputs": [
    {
     "name": "stdout",
     "output_type": "stream",
     "text": [
      "Series without index:  0    4\n",
      "1    5\n",
      "2    6\n",
      "dtype: int64\n",
      "Series with index:  Ikka        4\n",
      "Begum       5\n",
      "Baadshah    6\n",
      "dtype: int64\n"
     ]
    }
   ],
   "source": [
    "p=pd.Series((4,5,6))\n",
    "print(\"Series without index: \",p)\n",
    "p_i=pd.Series((4,5,6),index=(\"Ikka\",\"Begum\",\"Baadshah\"))\n",
    "print(\"Series with index: \",p_i)"
   ]
  },
  {
   "cell_type": "code",
   "execution_count": null,
   "id": "8454501f-0fd7-4d1b-a47b-38bdd04d03c8",
   "metadata": {},
   "outputs": [],
   "source": []
  }
 ],
 "metadata": {
  "kernelspec": {
   "display_name": "Python 3 (ipykernel)",
   "language": "python",
   "name": "python3"
  },
  "language_info": {
   "codemirror_mode": {
    "name": "ipython",
    "version": 3
   },
   "file_extension": ".py",
   "mimetype": "text/x-python",
   "name": "python",
   "nbconvert_exporter": "python",
   "pygments_lexer": "ipython3",
   "version": "3.11.7"
  }
 },
 "nbformat": 4,
 "nbformat_minor": 5
}

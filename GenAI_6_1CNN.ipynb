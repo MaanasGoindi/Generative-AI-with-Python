{
  "nbformat": 4,
  "nbformat_minor": 0,
  "metadata": {
    "colab": {
      "provenance": []
    },
    "kernelspec": {
      "name": "python3",
      "display_name": "Python 3"
    },
    "language_info": {
      "name": "python"
    }
  },
  "cells": [
    {
      "cell_type": "code",
      "execution_count": null,
      "metadata": {
        "colab": {
          "base_uri": "https://localhost:8080/"
        },
        "id": "5j-8Rs7u172-",
        "outputId": "7231bafa-378a-44a9-87c0-335970bea2aa"
      },
      "outputs": [
        {
          "output_type": "stream",
          "name": "stdout",
          "text": [
            "Convolution Output:  [[-2. -1.]\n",
            " [-3. -2.]]\n",
            "Max Pooling Output:  [[-1.]]\n"
          ]
        }
      ],
      "source": [
        "#Basic functioning of CNN\n",
        "import numpy as np\n",
        "def convolution2D(input_image, kernel):\n",
        "    input_height, input_width = input_image.shape\n",
        "    kernel_height, kernel_width = kernel.shape\n",
        "    output_height = (input_height - kernel_height) + 1\n",
        "    output_width = (input_width - kernel_width) + 1\n",
        "    output_image = np.zeros((output_height, output_width)) #Initialize Output Image\n",
        "    for i in range(output_height): #Performing Convolution\n",
        "        for j in range(output_width):\n",
        "            output_image[i, j] = np.sum(input_image[i:i+kernel_height, j:j+kernel_width] * kernel)\n",
        "    return output_image\n",
        "\n",
        "def max_pooling2D(input_image, pool_size):\n",
        "    input_height, input_width = input_image.shape\n",
        "    pool_height, pool_width = pool_size\n",
        "    output_height = input_height // pool_width\n",
        "    output_width = input_width // pool_width\n",
        "    output_image=np.zeros((output_height,output_width)) #Initialize Output Image\n",
        "    for i in range(output_height): #Performing MaxPooling\n",
        "        for j in range(output_width):\n",
        "            output_image[i,j]=np.max(input_image[i*pool_height:(i+1)*pool_height,j*pool_width:(j+1)*pool_width])\n",
        "    return output_image\n",
        "\n",
        "#Sample Input image\n",
        "input_image=np.array([[1,2,1,0],\n",
        "                     [0,1,3,2],\n",
        "                     [2,0,1,2],\n",
        "                     [1,2,2,1]])\n",
        "#Sample kernel\n",
        "kernel=np.array([[1,0,-1],\n",
        "                [1,0,-1],\n",
        "                [1,0,-1]])\n",
        "#Sample max pooling size\n",
        "pool_size=(2,2)\n",
        "#Perform Convolution\n",
        "conv_output=convolution2D(input_image,kernel)\n",
        "#Perform Max pooling\n",
        "pool_output=max_pooling2D(conv_output,pool_size)\n",
        "#Output\n",
        "print(\"Convolution Output: \",conv_output)\n",
        "print(\"Max Pooling Output: \",pool_output)"
      ]
    },
    {
      "cell_type": "code",
      "source": [
        "#CNN Implementation using Keras\n",
        "import numpy as np\n",
        "import matplotlib.pyplot as plt\n",
        "from keras.models import Sequential\n",
        "from keras.layers import Conv2D,MaxPooling2D,Flatten,Dense\n",
        "from keras.datasets import mnist\n",
        "from keras.utils import to_categorical"
      ],
      "metadata": {
        "id": "reE8iOil-Cts"
      },
      "execution_count": null,
      "outputs": []
    },
    {
      "cell_type": "code",
      "source": [
        "#Load and preprocess MNIST Dataset\n",
        "(train_images,train_labels),(test_images,test_labels)=mnist.load_data()\n",
        "train_images=train_images.reshape((60000,28,28,1)).astype('float32')/255\n",
        "test_images=test_images.reshape((10000,28,28,1)).astype('float32')/255\n",
        "\n",
        "\n",
        "train_labels=to_categorical(train_labels)\n",
        "test_labels=to_categorical(test_labels)"
      ],
      "metadata": {
        "colab": {
          "base_uri": "https://localhost:8080/"
        },
        "id": "0dGh7SU1_rut",
        "outputId": "0d1705cf-e55b-460e-bbb2-1bf2f113d539"
      },
      "execution_count": null,
      "outputs": [
        {
          "output_type": "stream",
          "name": "stdout",
          "text": [
            "Downloading data from https://storage.googleapis.com/tensorflow/tf-keras-datasets/mnist.npz\n",
            "11490434/11490434 [==============================] - 0s 0us/step\n"
          ]
        }
      ]
    },
    {
      "cell_type": "code",
      "source": [
        "#Build CNN Model\n",
        "model=Sequential()\n",
        "model.add(Conv2D(32,(3,3),activation='relu',input_shape=(28,28,1)))\n",
        "model.add(MaxPooling2D((2,2)))\n",
        "model.add(Flatten())\n",
        "model.add(Dense(64,activation='relu'))\n",
        "model.add(Dense(10,activation='softmax'))"
      ],
      "metadata": {
        "id": "uWOoSW-C_r1u"
      },
      "execution_count": null,
      "outputs": []
    },
    {
      "cell_type": "code",
      "source": [
        "#Compile the model\n",
        "#Compiling the model\n",
        "model.compile(optimizer='adam',loss='categorical_crossentropy',metrics=['accuracy'])\n",
        "\n",
        "#Training the model\n",
        "model.fit(train_images,train_labels,epochs=5,batch_size=64,validation_split=0.2)\n"
      ],
      "metadata": {
        "colab": {
          "base_uri": "https://localhost:8080/"
        },
        "id": "LB7D7B0g_r5V",
        "outputId": "4623ffae-8546-4286-ffeb-2a7d5398e199"
      },
      "execution_count": null,
      "outputs": [
        {
          "output_type": "stream",
          "name": "stdout",
          "text": [
            "Epoch 1/5\n",
            "750/750 [==============================] - 26s 33ms/step - loss: 0.2303 - accuracy: 0.9332 - val_loss: 0.0955 - val_accuracy: 0.9741\n",
            "Epoch 2/5\n",
            "750/750 [==============================] - 22s 30ms/step - loss: 0.0721 - accuracy: 0.9787 - val_loss: 0.0687 - val_accuracy: 0.9812\n",
            "Epoch 3/5\n",
            "750/750 [==============================] - 24s 32ms/step - loss: 0.0480 - accuracy: 0.9853 - val_loss: 0.0610 - val_accuracy: 0.9833\n",
            "Epoch 4/5\n",
            "750/750 [==============================] - 23s 31ms/step - loss: 0.0360 - accuracy: 0.9893 - val_loss: 0.0547 - val_accuracy: 0.9826\n",
            "Epoch 5/5\n",
            "750/750 [==============================] - 23s 31ms/step - loss: 0.0266 - accuracy: 0.9918 - val_loss: 0.0525 - val_accuracy: 0.9847\n"
          ]
        },
        {
          "output_type": "execute_result",
          "data": {
            "text/plain": [
              "<keras.src.callbacks.History at 0x7c7f7c1cf700>"
            ]
          },
          "metadata": {},
          "execution_count": 30
        }
      ]
    },
    {
      "cell_type": "code",
      "source": [
        "#Evaluate model on test data\n",
        "test_loss,test_acc=model.evaluate(test_images,test_labels)\n",
        "print(\"Test Accuracy: \",test_acc)\n",
        "\n",
        "#Prediction on a single test Image\n",
        "sample_image=test_images[3].reshape((1,28,28,1))\n",
        "prediction=model.predict(sample_image)\n",
        "predicted_label=np.argmax(prediction)\n",
        "\n",
        "#Display the sample image and its predicted label\n",
        "plt.imshow(test_images[3].reshape((28,28)),cmap='blue')\n",
        "plt.title(f\"Predicted Label: {predicted_label}\")\n",
        "plt.show()"
      ],
      "metadata": {
        "colab": {
          "base_uri": "https://localhost:8080/",
          "height": 507
        },
        "id": "I4syTUp8_r8z",
        "outputId": "2db964eb-fd7d-43c5-8a9b-e7ba019ba020"
      },
      "execution_count": null,
      "outputs": [
        {
          "output_type": "stream",
          "name": "stdout",
          "text": [
            "313/313 [==============================] - 2s 6ms/step - loss: 0.0413 - accuracy: 0.9873\n",
            "Test Accuracy:  0.9872999787330627\n",
            "1/1 [==============================] - 0s 97ms/step\n"
          ]
        },
        {
          "output_type": "display_data",
          "data": {
            "text/plain": [
              "<Figure size 640x480 with 1 Axes>"
            ],
            "image/png": "[encoded data removed]"
          },
          "metadata": {}
        }
      ]
    }
  ]
}

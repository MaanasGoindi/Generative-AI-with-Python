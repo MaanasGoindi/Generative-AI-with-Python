{
 "cells": [
  {
   "cell_type": "code",
   "execution_count": 2,
   "id": "fd44ed5e-25a1-4db5-b0f8-d3d5715e6b69",
   "metadata": {},
   "outputs": [],
   "source": [
    "import nltk\n",
    "from nltk.chat.util import Chat,reflections"
   ]
  },
  {
   "cell_type": "code",
   "execution_count": 3,
   "id": "7b13fded-1392-42a0-80de-d614d5e8504b",
   "metadata": {},
   "outputs": [],
   "source": [
    "reflections={\"Hello\":\"Hi\",\n",
    "            \"I want\":\"You want\",\n",
    "            \"I\":\"You\",\n",
    "            \"I am\":\"You are\",\n",
    "            \"I would\":\"You would\",\n",
    "            \"I have \":\"You have\",\n",
    "            \"I will\":\"You will\",\n",
    "            \"My\":\"Your\",\n",
    "            \"you are \":\"I am\",\n",
    "            \"you were\":\"I was\",\n",
    "            \"you have\":\"I have\",\n",
    "            \"you will\":\"I will\",\n",
    "            \"your\":\"My\",\n",
    "            \"yours\":\"mine\",\n",
    "            \"you\":\"me\",\n",
    "            \"me\":\"you\"\n",
    "            }"
   ]
  },
  {
   "cell_type": "code",
   "execution_count": 17,
   "id": "2d28e1d4-2df9-45aa-aa6d-12f1a1629e10",
   "metadata": {},
   "outputs": [],
   "source": [
    "pairs=[\n",
    "    [\n",
    "    r\"My name is(.*)\",\n",
    "    [\"Hello %1,How are you doing today?\",]\n",
    "    ],\n",
    "        [\n",
    "    r\"Hi|Hey|Hello\",\n",
    "    [\"Hello\",\"Hey there\"]\n",
    "    ],\n",
    " [\n",
    "    r\"What is your name?\",\n",
    "    [\"I am a bot created by Harsh.My name is Ash!\",]\n",
    "    ],\n",
    " [\n",
    "    r\"How are you doing?\",\n",
    "    [\"I am doing fine.Thank you for asking.What about you?\",]\n",
    "    ],\n",
    " [\n",
    "    r\"Sorry\",\n",
    "    [\"It's perfectly fine\",\"It's alright.\"]\n",
    "    ],\n",
    " [\n",
    "    r\"I am fine\",\n",
    "    [\"Glad to know that you are fine.Is there anything I can help you with?\",]\n",
    "    ],\n",
    " [\n",
    "    r\"I am looking for online guides and courses to learn datas science,can you suggest some?\",\n",
    "    [\"You can explore Rishabh Mishra,CodewithHarry or even online virtual sessions guide by Suyashi Raiwani.Hope it helps.\",]\n",
    "    ],\n",
    " [\n",
    "    r\"quit\",\n",
    "    [\"It was nice knowing you.\",]\n",
    "    ],\n",
    "]"
   ]
  },
  {
   "cell_type": "code",
   "execution_count": 18,
   "id": "0788d77d-ad96-44a5-b853-41565f1e3ae8",
   "metadata": {},
   "outputs": [
    {
     "name": "stdout",
     "output_type": "stream",
     "text": [
      "Hello! I would like to have a word with you,I am Ash.\n"
     ]
    },
    {
     "name": "stdin",
     "output_type": "stream",
     "text": [
      "> Sorry\n"
     ]
    },
    {
     "name": "stdout",
     "output_type": "stream",
     "text": [
      "It's perfectly fine\n"
     ]
    },
    {
     "name": "stdin",
     "output_type": "stream",
     "text": [
      "> What is your name\n"
     ]
    },
    {
     "name": "stdout",
     "output_type": "stream",
     "text": [
      "I am a bot created by Harsh.My name is Ash!\n"
     ]
    },
    {
     "name": "stdin",
     "output_type": "stream",
     "text": [
      "> I am Harsh\n"
     ]
    },
    {
     "name": "stdout",
     "output_type": "stream",
     "text": [
      "None\n"
     ]
    },
    {
     "name": "stdin",
     "output_type": "stream",
     "text": [
      "> My name is Harsh\n"
     ]
    },
    {
     "name": "stdout",
     "output_type": "stream",
     "text": [
      "Hello  harsh,How are you doing today?\n"
     ]
    },
    {
     "name": "stdin",
     "output_type": "stream",
     "text": [
      "> quit\n"
     ]
    },
    {
     "name": "stdout",
     "output_type": "stream",
     "text": [
      "It was nice knowing you.\n"
     ]
    }
   ],
   "source": [
    "def chatBot():\n",
    "    print(\"Hello! I would like to have a word with you,I am Ash.\")\n",
    "    chatBot=Chat(pairs,reflections)\n",
    "    chatBot.converse()\n",
    "\n",
    "#Initiate the conversation\n",
    "if __name__==\"__main__\":\n",
    "    chatBot()"
   ]
  },
  {
   "cell_type": "code",
   "execution_count": null,
   "id": "eb877a4a-9bc4-49e9-a063-5c2988db9097",
   "metadata": {},
   "outputs": [],
   "source": []
  },
  {
   "cell_type": "code",
   "execution_count": 21,
   "id": "d21dcfc1-f36a-41ee-9fc4-e6fa0129f465",
   "metadata": {},
   "outputs": [],
   "source": [
    "#Assignment: Travel Assistant ChatBot\n",
    "reflections={\"Hello\":\"Hi\",\n",
    "            \"I want\":\"You want\",\n",
    "            \"I\":\"You\",\n",
    "            \"I am\":\"You are\",\n",
    "            \"I would\":\"You would\",\n",
    "            \"I have \":\"You have\",\n",
    "            \"I will\":\"You will\",\n",
    "            \"My\":\"Your\",\n",
    "            \"you are \":\"I am\",\n",
    "            \"you were\":\"I was\",\n",
    "            \"you have\":\"I have\",\n",
    "            \"you will\":\"I will\",\n",
    "            \"your\":\"My\",\n",
    "            \"yours\":\"mine\",\n",
    "            \"you\":\"me\",\n",
    "            \"me\":\"you\"\n",
    "            }\n",
    "pairs=[\n",
    "    [\n",
    "    r\"My name is(.*)\",\n",
    "    [\"Hello %1,How are you doing today?\",]\n",
    "    ],\n",
    "        [\n",
    "    r\"Hi|Hey|Hello\",\n",
    "    [\"Hello\",\"Hey there\"]\n",
    "    ],\n",
    " [\n",
    "    r\"What is your name?\",\n",
    "    [\"I am a travel assitant bot created by Harsh.My name is Ash!\",]\n",
    "    ],\n",
    " [\n",
    "    r\"Could you tell me how much time does it takes for Everest expedition?\",\n",
    "    [\"Certainly.The duration of the expedition depends on the peak you chose to travel,the average expedition to summit Mount Everest takes 2 months.Do you want me to book for the same?\",]\n",
    "    ],\n",
    " [\n",
    "    r\"How much distance to cover to reach Jodhpur from Delhi?\",\n",
    "    [\"The distance between Jodhpur and Delhi is 626 Kms.Do you want me to book for the same?\"]\n",
    "    ],\n",
    " [\n",
    "    r\"What could be the average fare to reach Ayodhya from Kerela?\",\n",
    "    [\"Best way to get from Kerela to Ayodhya is to fly which takes 4 hours 47 minutes and cost around R7000-R24000.Alternatively a train journey would cost R2300-R7500.Do you want me to book for the same?\",]\n",
    "    ],\n",
    " [\n",
    "    r\"quit\",\n",
    "    [\"It was nice knowing you.\",]\n",
    "    ],\n",
    "]"
   ]
  },
  {
   "cell_type": "code",
   "execution_count": 20,
   "id": "72db4b7a-2f74-4b6e-b2a1-7decbb244a57",
   "metadata": {},
   "outputs": [
    {
     "name": "stdout",
     "output_type": "stream",
     "text": [
      "Hello!I am your Travel assistant Ash.How may I assist you?\n"
     ]
    },
    {
     "name": "stdin",
     "output_type": "stream",
     "text": [
      "> Could you tell me how much time does it takes for an Everest expedition?\n"
     ]
    },
    {
     "name": "stdout",
     "output_type": "stream",
     "text": [
      "Certainly.The duration of the expedition depends on the peak you chose to travel,the average expedition to summit Mount Everest takes 2 months.Do you want me to book for the same?\n"
     ]
    },
    {
     "name": "stdin",
     "output_type": "stream",
     "text": [
      "> How much distance to cover to reach Jodhpur from Delhi?\n"
     ]
    },
    {
     "name": "stdout",
     "output_type": "stream",
     "text": [
      "The distance between Jodhpur and Delhi is 626 Kms.Do you want me to book for the same?\n"
     ]
    },
    {
     "name": "stdin",
     "output_type": "stream",
     "text": [
      "> What could be the average fare to reach Ayodhya from Kerela?\n"
     ]
    },
    {
     "name": "stdout",
     "output_type": "stream",
     "text": [
      "Best way to get from Kerela to Ayodhya is to fly which takes 4 hours 47 minutes and cost around R7000-R24000.Alternatively a train journey would cost R2300-R7500.Do you want me to book for the same?\n"
     ]
    },
    {
     "name": "stdin",
     "output_type": "stream",
     "text": [
      "> quit\n"
     ]
    },
    {
     "name": "stdout",
     "output_type": "stream",
     "text": [
      "It was nice knowing you.\n"
     ]
    }
   ],
   "source": [
    "def chatBot():\n",
    "    print(\"Hello!I am your Travel assistant Ash.How may I assist you?\")\n",
    "    chatBot=Chat(pairs,reflections)\n",
    "    chatBot.converse()\n",
    "\n",
    "#Initiate the conversation\n",
    "if __name__==\"__main__\":\n",
    "    chatBot()"
   ]
  },
  {
   "cell_type": "code",
   "execution_count": 22,
   "id": "1a417931-4cfe-4d3f-81e2-8fbcc92b0be1",
   "metadata": {},
   "outputs": [],
   "source": [
    "import tkinter as tk\n",
    "from tkinter import scrolledtext\n",
    "from nltk.chat.util import Chat,reflections"
   ]
  },
  {
   "cell_type": "code",
   "execution_count": 26,
   "id": "9be4d950-2d75-4111-964b-428412c4b932",
   "metadata": {},
   "outputs": [],
   "source": [
    "#Travel Assistant\n",
    "response=[\n",
    "    (r\"Hello\",[\"Hi,How can I support you?\"]),\n",
    "    (r\"I would like to book a ticket to Ayodhya.\",[\"Certainly.How would you like to travel.Via train,bus or plane?\"]),\n",
    "    (r\"Could you tell me about the charges before I decide\",[\"By bus it would cost around 100-1500,via train 350-1600 and by flight it would be 4100-6000 per person.\"]),\n",
    "    (r\"Could you confirm me a ticket to Ayodhya via bus.\",[\"Sure.May I know how many persons does the booking needs to be confirmed for\"]),\n",
    "    (r\"It would be three tickets please\",[\"Your tickets to Ayodhya for 3 persons have been booked for a train via MakeMyTrip and will cost around 4500.\"]),\n",
    "    (r\"Thank you\",[\"Welcome.Hope you have a great day ahead.\"])\n",
    "]"
   ]
  },
  {
   "cell_type": "code",
   "execution_count": null,
   "id": "6ceff55f-a1d2-4522-ae59-f5e9a10a00a9",
   "metadata": {},
   "outputs": [],
   "source": [
    "#Create a chatbot\n",
    "chatBot=Chat(response,reflections)\n",
    "\n",
    "#Function to handle sending a message and getting a response\n",
    "def send_message():\n",
    "    message=user_input.get()\n",
    "    user_input.delete(0,tk.END)\n",
    "    response=chatBot.respond(message)\n",
    "    chat_history.config(state=tk.NORMAL)\n",
    "    chat_history.insert(tk.END,\"You: \"+message+\"\\n\",\"user\")\n",
    "    chat_history.insert(tk.END,\"Bot: \"+response+\"\\n\",\"bot\")\n",
    "    chat_history.config(state=tk.DISABLED)\n",
    "    chat_history.see(tk.END)\n",
    "\n",
    "#Create the main window\n",
    "root=tk.Tk()\n",
    "root.title(\"Travel Assistant ChatBot\")\n",
    "\n",
    "#Create Widgets\n",
    "chat_history=scrolledtext.ScrolledText(root,wrap=tk.WORD)\n",
    "user_input=tk.Entry(root)\n",
    "send_button=tk.Button(root,text=\"Send\",command=send_message)\n",
    "\n",
    "#Configure Chat History\n",
    "chat_history.config(state=tk.DISABLED)\n",
    "chat_history.tag_config(\"user\",foreground=\"blue\")\n",
    "chat_history.tag_config(\"bot\",foreground=\"black\")\n",
    "\n",
    "#Place Widgets on Grid\n",
    "chat_history.grid(row=0,column=0,columnspan=2,padx=5,pady=5)\n",
    "user_input.grid(row=1,column=0,padx=5,pady=5,sticky=\"ew\")\n",
    "send_button.grid(row=1,column=1,padx=5,pady=5,sticky=\"e\")\n",
    "\n",
    "#Start the main loop\n",
    "root.mainloop()"
   ]
  },
  {
   "cell_type": "code",
   "execution_count": null,
   "id": "44ba6429-82ac-40e8-9e64-87903b49c5cb",
   "metadata": {},
   "outputs": [],
   "source": []
  },
  {
   "cell_type": "code",
   "execution_count": null,
   "id": "fb5de0b8-624c-45e6-8978-0c9e6ae21839",
   "metadata": {},
   "outputs": [],
   "source": []
  }
 ],
 "metadata": {
  "kernelspec": {
   "display_name": "Python 3 (ipykernel)",
   "language": "python",
   "name": "python3"
  },
  "language_info": {
   "codemirror_mode": {
    "name": "ipython",
    "version": 3
   },
   "file_extension": ".py",
   "mimetype": "text/x-python",
   "name": "python",
   "nbconvert_exporter": "python",
   "pygments_lexer": "ipython3",
   "version": "3.11.7"
  }
 },
 "nbformat": 4,
 "nbformat_minor": 5
}

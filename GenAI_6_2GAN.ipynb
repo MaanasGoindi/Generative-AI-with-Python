{
  "nbformat": 4,
  "nbformat_minor": 0,
  "metadata": {
    "colab": {
      "provenance": []
    },
    "kernelspec": {
      "name": "python3",
      "display_name": "Python 3"
    },
    "language_info": {
      "name": "python"
    }
  },
  "cells": [
    {
      "cell_type": "code",
      "execution_count": 2,
      "metadata": {
        "id": "jS2UPawZJsGc"
      },
      "outputs": [],
      "source": [
        "#Basic Implementation of GAN using tensorflow\n",
        "import tensorflow as tf\n",
        "from tensorflow.keras import layers\n",
        "import numpy as np\n",
        "import matplotlib.pyplot as plt\n",
        "from keras.models import Sequential\n",
        "from keras.layers import SimpleRNN,Dense\n",
        "from keras.datasets import mnist\n",
        "from keras.utils import to_categorical"
      ]
    },
    {
      "cell_type": "code",
      "source": [
        "#Loading mnist Dataset\n",
        "(train_images,train_labels),(test_images,test_labels)=mnist.load_data()\n",
        "#Printing some data from dataset\n",
        "plt.figure(figsize=(10,5))\n",
        "for i in range(5):\n",
        "  plt.subplot(2,5,i+1)\n",
        "  plt.imshow(train_images[i],cmap='gray')\n",
        "  plt.title(f\"Label: {train_labels[i]}\")\n",
        "  plt.axis('off')\n",
        "\n",
        "plt.show()"
      ],
      "metadata": {
        "colab": {
          "base_uri": "https://localhost:8080/",
          "height": 229
        },
        "id": "8lIjIPJVbo5I",
        "outputId": "7d8d2b1b-f79d-4a81-85cc-f935153f1b22"
      },
      "execution_count": 3,
      "outputs": [
        {
          "output_type": "stream",
          "name": "stdout",
          "text": [
            "Downloading data from https://storage.googleapis.com/tensorflow/tf-keras-datasets/mnist.npz\n",
            "11490434/11490434 [==============================] - 0s 0us/step\n"
          ]
        },
        {
          "output_type": "display_data",
          "data": {
            "text/plain": [
              "<Figure size 1000x500 with 5 Axes>"
            ],
            "image/png": "[encoded data removed]"
          },
          "metadata": {}
        }
      ]
    },
    {
      "cell_type": "code",
      "source": [
        "#Define Generator etwork\n",
        "def make_generator_model():\n",
        "  model=tf.keras.Sequential()\n",
        "  model.add(layers.Dense(7*7*256,use_bias=False,input_shape=(100,)))\n",
        "  model.add(layers.BatchNormalization())\n",
        "  model.add(layers.LeakyReLU())\n",
        "\n",
        "  model.add(layers.Reshape((7,7,256)))\n",
        "  assert model.output_shape==(None,7,7,256) #None is the Batch size\n",
        "\n",
        "  model.add(layers.Conv2DTranspose(128,(5,5),strides=(1,1),padding='same',use_bias=False))\n",
        "  assert model.output_shape==(None,7,7,128)\n",
        "  model.add(layers.BatchNormalization())\n",
        "  model.add(layers.LeakyReLU())\n",
        "\n",
        "  model.add(layers.Conv2DTranspose(64,(5,5),strides=(2,2),padding='same',use_bias=False))\n",
        "  assert model.output_shape==(None,14,14,64)\n",
        "  model.add(layers.BatchNormalization())\n",
        "  model.add(layers.LeakyReLU())\n",
        "\n",
        "  model.add(layers.Conv2DTranspose(1,(5,5),strides=(2,2),padding='same',use_bias=False,activation='tanh'))\n",
        "  assert model.output_shape==(None,28,28,1)\n",
        "\n",
        "  return model\n",
        "#Create generator\n",
        "generator=make_generator_model()"
      ],
      "metadata": {
        "id": "R8OVHpKKbo8b"
      },
      "execution_count": 16,
      "outputs": []
    },
    {
      "cell_type": "code",
      "source": [
        "#Define Discriminator Network\n",
        "def make_discriminator_model():\n",
        "  model=tf.keras.Sequential()\n",
        "  model.add(layers.Conv2D(64,(5,5),strides=(2,2),padding='same',input_shape=[28,28,1]))\n",
        "  model.add(layers.LeakyReLU())\n",
        "  model.add(layers.Dropout(0.2)) #Technique by reducing risk of overfitting\n",
        "\n",
        "  model.add(layers.Conv2D(128,(5,5),strides=(2,2),padding='same'))\n",
        "  model.add(layers.LeakyReLU())\n",
        "  model.add(layers.Dropout(0.2)) #Technique by reducing risk of overfitting\n",
        "\n",
        "  model.add(layers.Flatten())\n",
        "  model.add(layers.Dense(1))\n",
        "\n",
        "  return model\n",
        "#Create generator\n",
        "generator=make_discriminator_model()"
      ],
      "metadata": {
        "id": "EXG8QPG_bo_o"
      },
      "execution_count": 18,
      "outputs": []
    },
    {
      "cell_type": "code",
      "source": [
        "#Describe Loss Function\n",
        "cross_entropy=tf.keras.losses.BinaryCrossentropy(from_logits=True)\n",
        "\n",
        "#Describe Discriminator Loss\n",
        "def discriminator_loss(real_output,fake_output):\n",
        "  real_loss=cross_entropy(tf.ones_like(real_output),real_output)\n",
        "  fake_loss=cross_entropy(tf.zeros_like(fake_output),fake_output)\n",
        "  total_loss=real_loss+fake_loss\n",
        "  return total_loss\n",
        "\n",
        "#Describe generator loss\n",
        "def generator_loss(fake_output):\n",
        "  return cross_entropy(tf.ones_like(fake_output),fake_output)"
      ],
      "metadata": {
        "id": "7Tp2dJeHbpDT"
      },
      "execution_count": 19,
      "outputs": []
    },
    {
      "cell_type": "code",
      "source": [
        "#Define Optimizer\n",
        "generator_optimizer=tf.keras.optimizers.Adam(1e-4)\n",
        "discriminator_optimizer=tf.keras.optimizers.Adam(1e-4)\n",
        "\n",
        "#Define training step function\n",
        "def train_step(images):\n",
        "  noise=tf.random.normal([BATCH_SIZE,noise_dim])\n",
        "\n",
        "  with tf.GradientTape() as gen_tape,tf.GradientTape() as disc_tape:\n",
        "    generated_images=generator(noise,training=True)\n",
        "\n",
        "    real_output=discriminator(images,training=True)\n",
        "    fake_output=discriminator(generated_images,training=True)\n",
        "\n",
        "    gen_loss=generator_loss(fake_output)\n",
        "    disc_loss=discriminator_loss(real_output,fake_output)\n",
        "\n",
        "    gradients_of_generator=gen_tape.gradient(gen_loss,generator.trainable_variables)\n",
        "    gradients_of_discriminator=disc_tape.gradient(disc_loss,discriminator.trainable_variables)\n",
        "\n",
        "    return gen_loss,disc_loss"
      ],
      "metadata": {
        "id": "dbRotgftbpHa"
      },
      "execution_count": 20,
      "outputs": []
    },
    {
      "cell_type": "code",
      "source": [
        "#Define training loop with visualizations\n",
        "def train(dataset,epochs):\n",
        "  for epoch in range(epochs):\n",
        "    for image_batch in dataset:\n",
        "      gen_loss,disc_loss=train_step(image_batch)\n",
        "      print(f'Epoch{epoch+1}/{epochs},Generator Loss:{gen_loss}, Discriminator Loss: {disc_loss}')\n",
        "\n",
        "      #Generate and save images for visualization\n",
        "      if epoch%10==0:\n",
        "        generate_and_save_images(generator,epoch+1,seed)\n",
        "\n",
        "#Function to generate and save images\n",
        "def generate_and_save_images(model,epoch,test_input):\n",
        "  predictions=model(test_input,training=False)\n",
        "  fig=plt.figure(figsize=(4,4))\n",
        "\n",
        "  for i in range(predictions.shape[0]):\n",
        "    plt.subplot(4,4,i+1)\n",
        "    plt.imshow(predictions[i,:,:,0]*127.5+127.5,cmap='gray')\n",
        "    plt.axis('off')\n",
        "\n",
        "    plt.savefig('image_at_epoch{:04d}.png'.format(epoch))\n",
        "    plt.show()\n",
        "\n"
      ],
      "metadata": {
        "id": "-cibpF2ybpLy"
      },
      "execution_count": 21,
      "outputs": []
    },
    {
      "cell_type": "code",
      "source": [
        "# Load and prepare the dataset (MNIST)\n",
        "mnist = tf.keras.datasets.mnist\n",
        "(train_images, _), (_, _) = mnist.load_data()\n",
        "train_images = train_images.reshape(train_images.shape[0], 28, 28, 1).astype('float32')\n",
        "train_images = (train_images - 127.5) / 127.5  # Normalize the images to [-1,1]\n",
        "\n",
        "# Batch and shuffle the data\n",
        "BUFFER_SIZE = 60000\n",
        "BATCH_SIZE = 256\n",
        "train_dataset = tf.data.Dataset.from_tensor_slices(train_images).shuffle(BUFFER_SIZE).batch(BATCH_SIZE)\n",
        "\n",
        "# Define dimensionality of Random noise vector\n",
        "noise_dim = 100\n",
        "num_examples_to_generate = 16\n",
        "seed = tf.random.normal([num_examples_to_generate, noise_dim])\n",
        "\n",
        "# Train GAN\n",
        "train(train_dataset, epochs=50)"
      ],
      "metadata": {
        "id": "nV6CmV8xbpPU"
      },
      "execution_count": null,
      "outputs": []
    }
  ]
}